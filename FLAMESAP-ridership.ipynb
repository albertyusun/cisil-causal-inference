{
 "cells": [
  {
   "cell_type": "code",
   "execution_count": 1,
   "id": "7097c6be",
   "metadata": {},
   "outputs": [],
   "source": [
    "import numpy as np\n",
    "import pandas as pd\n",
    "import matplotlib.pyplot as plt\n",
    "import seaborn as sns #for plotting\n",
    "from sklearn.ensemble import RandomForestClassifier #for the model\n",
    "from sklearn.tree import DecisionTreeClassifier\n",
    "from sklearn.tree import export_graphviz #plot tree\n",
    "from sklearn.metrics import roc_curve, auc #for model evaluation\n",
    "from sklearn.metrics import classification_report #for model evaluation\n",
    "from sklearn.metrics import confusion_matrix #for model evaluation\n",
    "from sklearn.model_selection import train_test_split #for data splitting\n",
    "np.random.seed(1) #ensure reproducibility\n",
    "\n",
    "pd.options.mode.chained_assignment = None  #hide any pandas warnings"
   ]
  },
  {
   "cell_type": "code",
   "execution_count": 2,
   "id": "84476f2c",
   "metadata": {},
   "outputs": [],
   "source": [
    "import pandas as pd\n",
    "import numpy as np\n",
    "import dame_flame\n",
    "import random\n",
    "import matplotlib.pyplot as plt"
   ]
  },
  {
   "cell_type": "code",
   "execution_count": 3,
   "id": "df19d5af",
   "metadata": {},
   "outputs": [
    {
     "ename": "NameError",
     "evalue": "name 'matched' is not defined",
     "output_type": "error",
     "traceback": [
      "\u001b[0;31m---------------------------------------------------------------------------\u001b[0m",
      "\u001b[0;31mNameError\u001b[0m                                 Traceback (most recent call last)",
      "\u001b[0;32m<ipython-input-3-f4b94b525d78>\u001b[0m in \u001b[0;36m<module>\u001b[0;34m\u001b[0m\n\u001b[1;32m      2\u001b[0m \u001b[0mdf_clean_ridership\u001b[0m \u001b[0;34m=\u001b[0m \u001b[0mpd\u001b[0m\u001b[0;34m.\u001b[0m\u001b[0mread_csv\u001b[0m\u001b[0;34m(\u001b[0m\u001b[0mclean_ridership_path\u001b[0m\u001b[0;34m)\u001b[0m\u001b[0;34m\u001b[0m\u001b[0;34m\u001b[0m\u001b[0m\n\u001b[1;32m      3\u001b[0m \u001b[0mdf_clean_ridership\u001b[0m \u001b[0;34m=\u001b[0m \u001b[0mdf_clean_ridership\u001b[0m\u001b[0;34m.\u001b[0m\u001b[0miloc\u001b[0m\u001b[0;34m[\u001b[0m\u001b[0;34m:\u001b[0m\u001b[0;34m,\u001b[0m\u001b[0;36m1\u001b[0m\u001b[0;34m:\u001b[0m\u001b[0;34m]\u001b[0m\u001b[0;34m\u001b[0m\u001b[0;34m\u001b[0m\u001b[0m\n\u001b[0;32m----> 4\u001b[0;31m \u001b[0mdf_clean_ridership\u001b[0m\u001b[0;34m.\u001b[0m\u001b[0miloc\u001b[0m\u001b[0;34m[\u001b[0m\u001b[0mmatched\u001b[0m\u001b[0;34m[\u001b[0m\u001b[0mmatched\u001b[0m\u001b[0;34m.\u001b[0m\u001b[0mAgency\u001b[0m\u001b[0;34m==\u001b[0m\u001b[0;36m2\u001b[0m\u001b[0;34m]\u001b[0m\u001b[0;34m.\u001b[0m\u001b[0mindex\u001b[0m\u001b[0;34m]\u001b[0m\u001b[0;34m[\u001b[0m\u001b[0;34m'SAP'\u001b[0m\u001b[0;34m]\u001b[0m\u001b[0;34m.\u001b[0m\u001b[0mvalue_counts\u001b[0m\u001b[0;34m(\u001b[0m\u001b[0;34m)\u001b[0m\u001b[0;34m\u001b[0m\u001b[0;34m\u001b[0m\u001b[0m\n\u001b[0m",
      "\u001b[0;31mNameError\u001b[0m: name 'matched' is not defined"
     ]
    }
   ],
   "source": [
    "clean_ridership_path = \"/Users/albertsun/Projects/data/flame_boardings.csv\"\n",
    "df_clean_ridership = pd.read_csv(clean_ridership_path)\n",
    "df_clean_ridership = df_clean_ridership.iloc[:,1:]\n",
    "df_clean_ridership.iloc[matched[matched.Agency==2].index]['SAP'].value_counts()"
   ]
  },
  {
   "cell_type": "code",
   "execution_count": null,
   "id": "cdb0a8d4",
   "metadata": {},
   "outputs": [],
   "source": [
    "df_clean_ridership.iloc[matched[matched.Agency==1].index]['SAP'].value_counts()"
   ]
  },
  {
   "cell_type": "code",
   "execution_count": null,
   "id": "014f003e",
   "metadata": {},
   "outputs": [],
   "source": [
    "model_flame_AMT = dame_flame.matching.FLAME(repeats=False, \n",
    "                                            verbose=3, \n",
    "                                            early_stop_iterations=30, \n",
    "                                            stop_unmatched_t = True, \n",
    "                                            adaptive_weights='decisiontree', \n",
    "                                            want_pe=True)\n"
   ]
  },
  {
   "cell_type": "code",
   "execution_count": null,
   "id": "22e54a97",
   "metadata": {},
   "outputs": [],
   "source": [
    "model_flame_AMT.fit(holdout_data=False, \n",
    "                    treatment_column_name='SAP', \n",
    "                    outcome_column_name='total_boardings')\n",
    "result_flame_AMT = model_flame_AMT.predict(df_clean_ridership)"
   ]
  },
  {
   "cell_type": "code",
   "execution_count": null,
   "id": "944e66fc",
   "metadata": {},
   "outputs": [],
   "source": [
    "matched = model_flame_AMT.df_units_and_covars_matched\n",
    "matched[matched.Agency==2].index"
   ]
  },
  {
   "cell_type": "code",
   "execution_count": null,
   "id": "c6ec3a51",
   "metadata": {},
   "outputs": [],
   "source": [
    "def compute_cates(column_name: str) -> dict:\n",
    "    \"\"\"\n",
    "    Return dictionary where\n",
    "    - the dictionary keys are a value in a column (i.e. Asian) and \n",
    "    - the dictionary value are the CATEs for all the units that have that value in the column (i.e. race=Asian) \n",
    "    \"\"\"\n",
    "    cates = {}\n",
    "    cates_avg = {}\n",
    "    for val in set(matched[column_name].tolist()):\n",
    "        cates[val] = []\n",
    "        print(f'Calculating cates for column: {column_name}, for value: {val}')\n",
    "        for i in matched[(matched[column_name] == val)].index:\n",
    "            cates[val].append(dame_flame.utils.post_processing.CATE(model_flame_AMT, i))\n",
    "        cates_avg[val] = sum(cates[val]) / len(cates[val])\n",
    "    return cates_avg\n",
    "\n",
    "def get_cates_and_counts(column_name: str) -> pd.DataFrame:\n",
    "    \"\"\"\n",
    "    Return pd DataFrame with CATE values and Count Values to plot both\n",
    "    \n",
    "    - 'CATE' column has CATE value corresponding to all the units with that value in the column\n",
    "    - 'Counts' column has the number of all units in the data that are matched to a group that \n",
    "    has that specific value, i.e. 1791 individuals/units with matched in a group such that race=White\n",
    "    \"\"\"\n",
    "    cates_avg = compute_cates(column_name)\n",
    "    cates_avg_series = pd.Series(cates_avg)\n",
    "    \n",
    "    num_lvls = matched[column_name].value_counts()\n",
    "    frame = {'CATE': cates_avg_series, \n",
    "             'Counts': num_lvls}\n",
    "    data = pd.DataFrame(frame)\n",
    "    data.index = data.index.map(str)\n",
    "    data = data.sort_index() \n",
    "    return data\n",
    "\n",
    "# non-response columns: \n",
    "cols = ['RaceDesc', 'OverallJobAccess_D', 'lowwagelaborforce_D', 'Access30Transit_D', 'Access30Transit_ts_D', 'spatialmismatch_D', 'Agency', 'Language', 'stage', 'Age_bin']\n",
    "\n",
    "df_dic = {}\n",
    "\n",
    "def export_cate_df(cols: list): \n",
    "    \"\"\"\n",
    "    Create dictionary where\n",
    "    - keys are column (i.e. White)\n",
    "    - values are pandas dataframe (i.e. pandas dataframe created using get_cates_and_counts() that shows CATE\n",
    "    values and counts)\n",
    "    \"\"\"\n",
    "    for col in cols:\n",
    "        df_dic[col] = get_cates_and_counts(col)\n",
    "\n",
    "export_cate_df(cols)\n"
   ]
  },
  {
   "cell_type": "code",
   "execution_count": null,
   "id": "84e7532a",
   "metadata": {},
   "outputs": [],
   "source": [
    "artifacts_filepath = '/Users/albertsun/Projects/artifacts/'\n",
    "response_var = 'ridership'\n",
    "\n",
    "import seaborn as sns\n",
    "sns.set_theme(style=\"white\")\n",
    "sns.set(font_scale=2)"
   ]
  },
  {
   "cell_type": "code",
   "execution_count": null,
   "id": "b1b30242",
   "metadata": {},
   "outputs": [],
   "source": [
    "plt.rcParams[\"figure.figsize\"] = (8,11)"
   ]
  },
  {
   "cell_type": "code",
   "execution_count": null,
   "id": "5a0b6eb5",
   "metadata": {},
   "outputs": [],
   "source": [
    "def plot_column_CATE(column, title=None, xaxistitle=None, rename_dic=None) -> None:\n",
    "    \"\"\"\n",
    "    Generalized function that plots the CATE and counts for everything in a particular column, i.e. \n",
    "    \"race\". Must run previous helper functions for this to work. \n",
    "    \n",
    "    Takes:\n",
    "    - column - column name\n",
    "    - title - plot title\n",
    "    - xaxistitle - x axis title \n",
    "    \n",
    "    Returns:\n",
    "    - None\n",
    "    \n",
    "    \"\"\"\n",
    "    \n",
    "    if title ==None: \n",
    "        title = column + \" CATE on Ridership\"\n",
    "        \n",
    "    df = df_dic[column]\n",
    "    \n",
    "    df = df.rename(index={'*': 'Unmatched'})\n",
    "    \n",
    "    if rename_dic != None: \n",
    "        df = df.rename(index=rename_dic)\n",
    "    \n",
    "    df = df.sort_values('CATE', ascending=False)\n",
    "    df.plot.bar(rot=0, subplots=True, fontsize = 20)\n",
    "    sns.set_theme(style=\"white\")\n",
    "    \n",
    "    plt.xlabel(xaxistitle)\n",
    "    \n",
    "    #plt.subplots_adjust(top=0.85)\n",
    "    #plt.gcf().subplots_adjust(bottom=0.20)\n",
    "\n",
    "    plt.suptitle(title, fontweight='bold')\n",
    "    plt.xticks(rotation = 90) # Rotates X-Axis Ticks by 45-degrees\n",
    "    plt.savefig(artifacts_filepath + 'Ridership_CATE_' + response_var + '_' + column + '.png')\n",
    "    \n",
    "\n",
    "    return df"
   ]
  },
  {
   "cell_type": "code",
   "execution_count": null,
   "id": "a459e9b3",
   "metadata": {},
   "outputs": [],
   "source": [
    "dic_race_rename = {'0.0': 'White',\n",
    "            '1.0': 'Black',\n",
    "            '2.0': 'Asian',\n",
    "            '3.0': 'Hispanic',\n",
    "            '4.0': 'Not Specified',\n",
    "            '5.0': 'Other',\n",
    "            '6.0': 'American Indian',\n",
    "            '7.0': 'Multi-Racial',\n",
    "            '8.0': 'Pacific Islander',\n",
    "            '*': 'Umatched'}\n",
    "\n",
    "dic_language_rename = {\"0.0\":\"English\", \n",
    "                       \"1.0\":\"Chinese\", \n",
    "                       \"2.0\":\"Spanish\", \n",
    "                       \"3.0\":\"Dari\", \n",
    "                       \"4.0\":\"Vietnamese\", \n",
    "                       \"5.0\":'Other'}\n",
    "\n",
    "dic_agency_rename = {\"0.0\":\"King County Public Health\", \n",
    "     \"1.0\":\"DSHS - ORCA LIFT (remote enrollment)\", \n",
    "     \"2.0\":\"DSHS - subsidized annual pass (remote enrollment)\", \n",
    "     \"3.0\":\"CCS\", \n",
    "     \"4.0\":\"KCMCCS\", \n",
    "     \"5.0\":'Other'}\n",
    "\n"
   ]
  },
  {
   "cell_type": "code",
   "execution_count": null,
   "id": "9a62d87d",
   "metadata": {},
   "outputs": [],
   "source": [
    "plot_column_CATE(column='RaceDesc', rename_dic=dic_race_rename)"
   ]
  },
  {
   "cell_type": "code",
   "execution_count": null,
   "id": "518d0e04",
   "metadata": {},
   "outputs": [],
   "source": [
    "plot_column_CATE(column='Access30Transit_D')"
   ]
  },
  {
   "cell_type": "code",
   "execution_count": null,
   "id": "6bfc49e2",
   "metadata": {},
   "outputs": [],
   "source": [
    "plot_column_CATE(column='OverallJobAccess_D')"
   ]
  },
  {
   "cell_type": "code",
   "execution_count": null,
   "id": "ecbdd674",
   "metadata": {},
   "outputs": [],
   "source": [
    "plot_column_CATE(column='Agency', rename_dic=dic_agency_rename)"
   ]
  },
  {
   "cell_type": "code",
   "execution_count": null,
   "id": "da7c80a0",
   "metadata": {},
   "outputs": [],
   "source": [
    "plot_column_CATE(column='Language', rename_dic=dic_language_rename)\n",
    "\n"
   ]
  },
  {
   "cell_type": "code",
   "execution_count": null,
   "id": "24e531d4",
   "metadata": {},
   "outputs": [],
   "source": [
    "plot_column_CATE(column='stage')\n",
    "\n"
   ]
  },
  {
   "cell_type": "code",
   "execution_count": null,
   "id": "ebf9fb62",
   "metadata": {},
   "outputs": [],
   "source": [
    "plot_column_CATE(column='Age_bin')"
   ]
  },
  {
   "cell_type": "code",
   "execution_count": null,
   "id": "7020b9ee",
   "metadata": {},
   "outputs": [],
   "source": [
    "plot_column_CATE(column='Access30Transit_ts_D')\n",
    "\n"
   ]
  },
  {
   "cell_type": "code",
   "execution_count": null,
   "id": "80147a45",
   "metadata": {},
   "outputs": [],
   "source": [
    "plot_column_CATE(column='spatialmismatch_D')\n",
    "\n"
   ]
  },
  {
   "cell_type": "code",
   "execution_count": null,
   "id": "c4f80f44",
   "metadata": {},
   "outputs": [],
   "source": []
  },
  {
   "cell_type": "code",
   "execution_count": null,
   "id": "f98038e6",
   "metadata": {},
   "outputs": [],
   "source": []
  }
 ],
 "metadata": {
  "kernelspec": {
   "display_name": "Python 3.8.8 64-bit ('base': conda)",
   "language": "python",
   "name": "python388jvsc74a57bd0718e77e574b71e9f7991c7da6831896cfd7281e366db0dbf84de44e8d5f66e5a"
  },
  "language_info": {
   "codemirror_mode": {
    "name": "ipython",
    "version": 3
   },
   "file_extension": ".py",
   "mimetype": "text/x-python",
   "name": "python",
   "nbconvert_exporter": "python",
   "pygments_lexer": "ipython3",
   "version": "3.8.8"
  }
 },
 "nbformat": 4,
 "nbformat_minor": 5
}
