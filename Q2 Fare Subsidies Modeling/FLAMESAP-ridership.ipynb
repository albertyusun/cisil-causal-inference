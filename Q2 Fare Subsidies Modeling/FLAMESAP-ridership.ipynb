{
 "cells": [
  {
   "cell_type": "code",
   "execution_count": 1,
   "metadata": {},
   "outputs": [],
   "source": [
    "import numpy as np\n",
    "import pandas as pd\n",
    "import matplotlib.pyplot as plt\n",
    "import matplotlib\n",
    "\n",
    "import seaborn as sns #for plotting\n",
    "\n",
    "import dame_flame\n",
    "import random\n",
    "np.random.seed(1) #ensure reproducibility\n",
    "\n",
    "\n",
    "pd.options.mode.chained_assignment = None"
   ]
  },
  {
   "cell_type": "code",
   "execution_count": 2,
   "metadata": {},
   "outputs": [],
   "source": [
    "# Data on Ridership, where total_boardings is the number of boardings of a specific card_id on King County Metro."
   ]
  },
  {
   "cell_type": "code",
   "execution_count": 20,
   "metadata": {},
   "outputs": [
    {
     "data": {
      "text/html": [
       "<div>\n",
       "<style scoped>\n",
       "    .dataframe tbody tr th:only-of-type {\n",
       "        vertical-align: middle;\n",
       "    }\n",
       "\n",
       "    .dataframe tbody tr th {\n",
       "        vertical-align: top;\n",
       "    }\n",
       "\n",
       "    .dataframe thead th {\n",
       "        text-align: right;\n",
       "    }\n",
       "</style>\n",
       "<table border=\"1\" class=\"dataframe\">\n",
       "  <thead>\n",
       "    <tr style=\"text-align: right;\">\n",
       "      <th></th>\n",
       "      <th>RaceDesc</th>\n",
       "      <th>OverallJobAccess_D</th>\n",
       "      <th>lowwagelaborforce_D</th>\n",
       "      <th>Access30Transit_D</th>\n",
       "      <th>Access30Transit_ts_D</th>\n",
       "      <th>spatialmismatch_D</th>\n",
       "      <th>SAP</th>\n",
       "      <th>Agency</th>\n",
       "      <th>Language</th>\n",
       "      <th>stage</th>\n",
       "      <th>Age_bin</th>\n",
       "      <th>total_boardings</th>\n",
       "    </tr>\n",
       "  </thead>\n",
       "  <tbody>\n",
       "    <tr>\n",
       "      <th>0</th>\n",
       "      <td>0</td>\n",
       "      <td>4</td>\n",
       "      <td>3</td>\n",
       "      <td>1</td>\n",
       "      <td>1</td>\n",
       "      <td>2</td>\n",
       "      <td>0</td>\n",
       "      <td>0</td>\n",
       "      <td>0</td>\n",
       "      <td>2</td>\n",
       "      <td>3</td>\n",
       "      <td>1.0</td>\n",
       "    </tr>\n",
       "    <tr>\n",
       "      <th>1</th>\n",
       "      <td>0</td>\n",
       "      <td>4</td>\n",
       "      <td>3</td>\n",
       "      <td>1</td>\n",
       "      <td>1</td>\n",
       "      <td>2</td>\n",
       "      <td>0</td>\n",
       "      <td>0</td>\n",
       "      <td>0</td>\n",
       "      <td>3</td>\n",
       "      <td>4</td>\n",
       "      <td>14.0</td>\n",
       "    </tr>\n",
       "    <tr>\n",
       "      <th>2</th>\n",
       "      <td>0</td>\n",
       "      <td>4</td>\n",
       "      <td>3</td>\n",
       "      <td>1</td>\n",
       "      <td>1</td>\n",
       "      <td>2</td>\n",
       "      <td>0</td>\n",
       "      <td>0</td>\n",
       "      <td>0</td>\n",
       "      <td>2</td>\n",
       "      <td>4</td>\n",
       "      <td>0.0</td>\n",
       "    </tr>\n",
       "    <tr>\n",
       "      <th>3</th>\n",
       "      <td>3</td>\n",
       "      <td>4</td>\n",
       "      <td>3</td>\n",
       "      <td>1</td>\n",
       "      <td>1</td>\n",
       "      <td>2</td>\n",
       "      <td>0</td>\n",
       "      <td>0</td>\n",
       "      <td>2</td>\n",
       "      <td>2</td>\n",
       "      <td>2</td>\n",
       "      <td>0.0</td>\n",
       "    </tr>\n",
       "    <tr>\n",
       "      <th>4</th>\n",
       "      <td>2</td>\n",
       "      <td>4</td>\n",
       "      <td>3</td>\n",
       "      <td>1</td>\n",
       "      <td>1</td>\n",
       "      <td>2</td>\n",
       "      <td>0</td>\n",
       "      <td>0</td>\n",
       "      <td>0</td>\n",
       "      <td>1</td>\n",
       "      <td>2</td>\n",
       "      <td>0.0</td>\n",
       "    </tr>\n",
       "    <tr>\n",
       "      <th>...</th>\n",
       "      <td>...</td>\n",
       "      <td>...</td>\n",
       "      <td>...</td>\n",
       "      <td>...</td>\n",
       "      <td>...</td>\n",
       "      <td>...</td>\n",
       "      <td>...</td>\n",
       "      <td>...</td>\n",
       "      <td>...</td>\n",
       "      <td>...</td>\n",
       "      <td>...</td>\n",
       "      <td>...</td>\n",
       "    </tr>\n",
       "    <tr>\n",
       "      <th>13543</th>\n",
       "      <td>1</td>\n",
       "      <td>2</td>\n",
       "      <td>2</td>\n",
       "      <td>1</td>\n",
       "      <td>1</td>\n",
       "      <td>3</td>\n",
       "      <td>0</td>\n",
       "      <td>1</td>\n",
       "      <td>0</td>\n",
       "      <td>1</td>\n",
       "      <td>3</td>\n",
       "      <td>0.0</td>\n",
       "    </tr>\n",
       "    <tr>\n",
       "      <th>13544</th>\n",
       "      <td>5</td>\n",
       "      <td>1</td>\n",
       "      <td>2</td>\n",
       "      <td>1</td>\n",
       "      <td>1</td>\n",
       "      <td>3</td>\n",
       "      <td>0</td>\n",
       "      <td>1</td>\n",
       "      <td>0</td>\n",
       "      <td>1</td>\n",
       "      <td>3</td>\n",
       "      <td>0.0</td>\n",
       "    </tr>\n",
       "    <tr>\n",
       "      <th>13545</th>\n",
       "      <td>0</td>\n",
       "      <td>1</td>\n",
       "      <td>2</td>\n",
       "      <td>1</td>\n",
       "      <td>1</td>\n",
       "      <td>3</td>\n",
       "      <td>0</td>\n",
       "      <td>1</td>\n",
       "      <td>0</td>\n",
       "      <td>1</td>\n",
       "      <td>0</td>\n",
       "      <td>0.0</td>\n",
       "    </tr>\n",
       "    <tr>\n",
       "      <th>13546</th>\n",
       "      <td>0</td>\n",
       "      <td>1</td>\n",
       "      <td>2</td>\n",
       "      <td>2</td>\n",
       "      <td>3</td>\n",
       "      <td>3</td>\n",
       "      <td>1</td>\n",
       "      <td>2</td>\n",
       "      <td>0</td>\n",
       "      <td>1</td>\n",
       "      <td>0</td>\n",
       "      <td>0.0</td>\n",
       "    </tr>\n",
       "    <tr>\n",
       "      <th>13547</th>\n",
       "      <td>4</td>\n",
       "      <td>2</td>\n",
       "      <td>1</td>\n",
       "      <td>3</td>\n",
       "      <td>1</td>\n",
       "      <td>2</td>\n",
       "      <td>0</td>\n",
       "      <td>0</td>\n",
       "      <td>0</td>\n",
       "      <td>1</td>\n",
       "      <td>2</td>\n",
       "      <td>0.0</td>\n",
       "    </tr>\n",
       "  </tbody>\n",
       "</table>\n",
       "<p>13548 rows × 12 columns</p>\n",
       "</div>"
      ],
      "text/plain": [
       "       RaceDesc  OverallJobAccess_D  lowwagelaborforce_D  Access30Transit_D  \\\n",
       "0             0                   4                    3                  1   \n",
       "1             0                   4                    3                  1   \n",
       "2             0                   4                    3                  1   \n",
       "3             3                   4                    3                  1   \n",
       "4             2                   4                    3                  1   \n",
       "...         ...                 ...                  ...                ...   \n",
       "13543         1                   2                    2                  1   \n",
       "13544         5                   1                    2                  1   \n",
       "13545         0                   1                    2                  1   \n",
       "13546         0                   1                    2                  2   \n",
       "13547         4                   2                    1                  3   \n",
       "\n",
       "       Access30Transit_ts_D  spatialmismatch_D  SAP  Agency  Language  stage  \\\n",
       "0                         1                  2    0       0         0      2   \n",
       "1                         1                  2    0       0         0      3   \n",
       "2                         1                  2    0       0         0      2   \n",
       "3                         1                  2    0       0         2      2   \n",
       "4                         1                  2    0       0         0      1   \n",
       "...                     ...                ...  ...     ...       ...    ...   \n",
       "13543                     1                  3    0       1         0      1   \n",
       "13544                     1                  3    0       1         0      1   \n",
       "13545                     1                  3    0       1         0      1   \n",
       "13546                     3                  3    1       2         0      1   \n",
       "13547                     1                  2    0       0         0      1   \n",
       "\n",
       "       Age_bin  total_boardings  \n",
       "0            3              1.0  \n",
       "1            4             14.0  \n",
       "2            4              0.0  \n",
       "3            2              0.0  \n",
       "4            2              0.0  \n",
       "...        ...              ...  \n",
       "13543        3              0.0  \n",
       "13544        3              0.0  \n",
       "13545        0              0.0  \n",
       "13546        0              0.0  \n",
       "13547        2              0.0  \n",
       "\n",
       "[13548 rows x 12 columns]"
      ]
     },
     "execution_count": 20,
     "metadata": {},
     "output_type": "execute_result"
    }
   ],
   "source": [
    "clean_ridership_path = \"/Users/JennyH/cisil-causal-inference/Data/flame_boardings.csv\"\n",
    "df_clean_ridership = pd.read_csv(clean_ridership_path)\n",
    "df_clean_ridership = df_clean_ridership.iloc[:,1:]\n",
    "df_clean_ridership\n"
   ]
  },
  {
   "cell_type": "code",
   "execution_count": 21,
   "metadata": {},
   "outputs": [
    {
     "data": {
      "text/html": [
       "<div>\n",
       "<style scoped>\n",
       "    .dataframe tbody tr th:only-of-type {\n",
       "        vertical-align: middle;\n",
       "    }\n",
       "\n",
       "    .dataframe tbody tr th {\n",
       "        vertical-align: top;\n",
       "    }\n",
       "\n",
       "    .dataframe thead th {\n",
       "        text-align: right;\n",
       "    }\n",
       "</style>\n",
       "<table border=\"1\" class=\"dataframe\">\n",
       "  <thead>\n",
       "    <tr style=\"text-align: right;\">\n",
       "      <th></th>\n",
       "      <th>RaceDesc</th>\n",
       "      <th>OverallJobAccess_D</th>\n",
       "      <th>lowwagelaborforce_D</th>\n",
       "      <th>Access30Transit_D</th>\n",
       "      <th>Access30Transit_ts_D</th>\n",
       "      <th>spatialmismatch_D</th>\n",
       "      <th>SAP</th>\n",
       "      <th>Agency</th>\n",
       "      <th>Language</th>\n",
       "      <th>stage</th>\n",
       "      <th>Age_bin</th>\n",
       "      <th>total_boardings</th>\n",
       "    </tr>\n",
       "  </thead>\n",
       "  <tbody>\n",
       "    <tr>\n",
       "      <th>5</th>\n",
       "      <td>1</td>\n",
       "      <td>1</td>\n",
       "      <td>2</td>\n",
       "      <td>4</td>\n",
       "      <td>4</td>\n",
       "      <td>3</td>\n",
       "      <td>1</td>\n",
       "      <td>0</td>\n",
       "      <td>0</td>\n",
       "      <td>2</td>\n",
       "      <td>3</td>\n",
       "      <td>807.0</td>\n",
       "    </tr>\n",
       "    <tr>\n",
       "      <th>6</th>\n",
       "      <td>1</td>\n",
       "      <td>1</td>\n",
       "      <td>2</td>\n",
       "      <td>4</td>\n",
       "      <td>4</td>\n",
       "      <td>3</td>\n",
       "      <td>1</td>\n",
       "      <td>0</td>\n",
       "      <td>0</td>\n",
       "      <td>1</td>\n",
       "      <td>5</td>\n",
       "      <td>0.0</td>\n",
       "    </tr>\n",
       "    <tr>\n",
       "      <th>7</th>\n",
       "      <td>1</td>\n",
       "      <td>1</td>\n",
       "      <td>2</td>\n",
       "      <td>4</td>\n",
       "      <td>4</td>\n",
       "      <td>3</td>\n",
       "      <td>1</td>\n",
       "      <td>0</td>\n",
       "      <td>0</td>\n",
       "      <td>1</td>\n",
       "      <td>5</td>\n",
       "      <td>110.0</td>\n",
       "    </tr>\n",
       "    <tr>\n",
       "      <th>8</th>\n",
       "      <td>1</td>\n",
       "      <td>1</td>\n",
       "      <td>2</td>\n",
       "      <td>4</td>\n",
       "      <td>4</td>\n",
       "      <td>3</td>\n",
       "      <td>1</td>\n",
       "      <td>0</td>\n",
       "      <td>0</td>\n",
       "      <td>2</td>\n",
       "      <td>5</td>\n",
       "      <td>0.0</td>\n",
       "    </tr>\n",
       "    <tr>\n",
       "      <th>9</th>\n",
       "      <td>1</td>\n",
       "      <td>1</td>\n",
       "      <td>2</td>\n",
       "      <td>4</td>\n",
       "      <td>4</td>\n",
       "      <td>3</td>\n",
       "      <td>1</td>\n",
       "      <td>0</td>\n",
       "      <td>0</td>\n",
       "      <td>2</td>\n",
       "      <td>5</td>\n",
       "      <td>110.0</td>\n",
       "    </tr>\n",
       "    <tr>\n",
       "      <th>...</th>\n",
       "      <td>...</td>\n",
       "      <td>...</td>\n",
       "      <td>...</td>\n",
       "      <td>...</td>\n",
       "      <td>...</td>\n",
       "      <td>...</td>\n",
       "      <td>...</td>\n",
       "      <td>...</td>\n",
       "      <td>...</td>\n",
       "      <td>...</td>\n",
       "      <td>...</td>\n",
       "      <td>...</td>\n",
       "    </tr>\n",
       "    <tr>\n",
       "      <th>13517</th>\n",
       "      <td>4</td>\n",
       "      <td>3</td>\n",
       "      <td>3</td>\n",
       "      <td>4</td>\n",
       "      <td>3</td>\n",
       "      <td>2</td>\n",
       "      <td>0</td>\n",
       "      <td>0</td>\n",
       "      <td>0</td>\n",
       "      <td>1</td>\n",
       "      <td>1</td>\n",
       "      <td>0.0</td>\n",
       "    </tr>\n",
       "    <tr>\n",
       "      <th>13518</th>\n",
       "      <td>0</td>\n",
       "      <td>1</td>\n",
       "      <td>3</td>\n",
       "      <td>4</td>\n",
       "      <td>4</td>\n",
       "      <td>3</td>\n",
       "      <td>0</td>\n",
       "      <td>1</td>\n",
       "      <td>0</td>\n",
       "      <td>1</td>\n",
       "      <td>2</td>\n",
       "      <td>0.0</td>\n",
       "    </tr>\n",
       "    <tr>\n",
       "      <th>13524</th>\n",
       "      <td>0</td>\n",
       "      <td>1</td>\n",
       "      <td>4</td>\n",
       "      <td>4</td>\n",
       "      <td>4</td>\n",
       "      <td>4</td>\n",
       "      <td>0</td>\n",
       "      <td>0</td>\n",
       "      <td>0</td>\n",
       "      <td>1</td>\n",
       "      <td>4</td>\n",
       "      <td>0.0</td>\n",
       "    </tr>\n",
       "    <tr>\n",
       "      <th>13532</th>\n",
       "      <td>1</td>\n",
       "      <td>3</td>\n",
       "      <td>2</td>\n",
       "      <td>4</td>\n",
       "      <td>3</td>\n",
       "      <td>2</td>\n",
       "      <td>1</td>\n",
       "      <td>2</td>\n",
       "      <td>0</td>\n",
       "      <td>1</td>\n",
       "      <td>4</td>\n",
       "      <td>0.0</td>\n",
       "    </tr>\n",
       "    <tr>\n",
       "      <th>13538</th>\n",
       "      <td>1</td>\n",
       "      <td>2</td>\n",
       "      <td>3</td>\n",
       "      <td>4</td>\n",
       "      <td>4</td>\n",
       "      <td>3</td>\n",
       "      <td>0</td>\n",
       "      <td>1</td>\n",
       "      <td>0</td>\n",
       "      <td>1</td>\n",
       "      <td>2</td>\n",
       "      <td>0.0</td>\n",
       "    </tr>\n",
       "  </tbody>\n",
       "</table>\n",
       "<p>7014 rows × 12 columns</p>\n",
       "</div>"
      ],
      "text/plain": [
       "       RaceDesc  OverallJobAccess_D  lowwagelaborforce_D  Access30Transit_D  \\\n",
       "5             1                   1                    2                  4   \n",
       "6             1                   1                    2                  4   \n",
       "7             1                   1                    2                  4   \n",
       "8             1                   1                    2                  4   \n",
       "9             1                   1                    2                  4   \n",
       "...         ...                 ...                  ...                ...   \n",
       "13517         4                   3                    3                  4   \n",
       "13518         0                   1                    3                  4   \n",
       "13524         0                   1                    4                  4   \n",
       "13532         1                   3                    2                  4   \n",
       "13538         1                   2                    3                  4   \n",
       "\n",
       "       Access30Transit_ts_D  spatialmismatch_D  SAP  Agency  Language  stage  \\\n",
       "5                         4                  3    1       0         0      2   \n",
       "6                         4                  3    1       0         0      1   \n",
       "7                         4                  3    1       0         0      1   \n",
       "8                         4                  3    1       0         0      2   \n",
       "9                         4                  3    1       0         0      2   \n",
       "...                     ...                ...  ...     ...       ...    ...   \n",
       "13517                     3                  2    0       0         0      1   \n",
       "13518                     4                  3    0       1         0      1   \n",
       "13524                     4                  4    0       0         0      1   \n",
       "13532                     3                  2    1       2         0      1   \n",
       "13538                     4                  3    0       1         0      1   \n",
       "\n",
       "       Age_bin  total_boardings  \n",
       "5            3            807.0  \n",
       "6            5              0.0  \n",
       "7            5            110.0  \n",
       "8            5              0.0  \n",
       "9            5            110.0  \n",
       "...        ...              ...  \n",
       "13517        1              0.0  \n",
       "13518        2              0.0  \n",
       "13524        4              0.0  \n",
       "13532        4              0.0  \n",
       "13538        2              0.0  \n",
       "\n",
       "[7014 rows x 12 columns]"
      ]
     },
     "execution_count": 21,
     "metadata": {},
     "output_type": "execute_result"
    }
   ],
   "source": [
    "df_clean_ridership.query(\"Access30Transit_D == 4\")"
   ]
  },
  {
   "cell_type": "markdown",
   "metadata": {},
   "source": [
    "## Run FLAME for matching."
   ]
  },
  {
   "cell_type": "code",
   "execution_count": 22,
   "metadata": {},
   "outputs": [],
   "source": [
    "model_flame_AMT = dame_flame.matching.FLAME(repeats=False, \n",
    "                                            verbose=3, \n",
    "                                            early_stop_iterations=30, \n",
    "                                            stop_unmatched_t = True, \n",
    "                                            adaptive_weights='decisiontree', \n",
    "                                            want_pe=True)"
   ]
  },
  {
   "cell_type": "code",
   "execution_count": 23,
   "metadata": {},
   "outputs": [
    {
     "name": "stdout",
     "output_type": "stream",
     "text": [
      "Iteration number:  1\n",
      "\tNumber of matched groups formed in total:  459\n",
      "\tUnmatched treated units:  3912 out of a total of  4973 treated units\n",
      "\tUnmatched control units:  7601 out of a total of  8575 control units\n",
      "\tPredictive error of covariates chosen this iteration:  0\n",
      "\tNumber of matches made in this iteration:  2035\n",
      "\tNumber of matches made so far:  2035\n",
      "\tIn this iteration, the covariates dropped are:  set()\n",
      "Iteration number:  2\n",
      "\tNumber of matched groups formed in total:  527\n",
      "\tUnmatched treated units:  3809 out of a total of  4973 treated units\n",
      "\tUnmatched control units:  7523 out of a total of  8575 control units\n",
      "\tPredictive error of covariates chosen this iteration:  7317.84439825263\n",
      "\tNumber of matches made in this iteration:  181\n",
      "\tNumber of matches made so far:  2216\n",
      "\tIn this iteration, the covariates dropped are:  Access30Transit_ts_D\n",
      "Iteration number:  3\n",
      "\tNumber of matched groups formed in total:  658\n",
      "\tUnmatched treated units:  3642 out of a total of  4973 treated units\n",
      "\tUnmatched control units:  7293 out of a total of  8575 control units\n",
      "\tPredictive error of covariates chosen this iteration:  8562.735712334517\n",
      "\tNumber of matches made in this iteration:  578\n",
      "\tNumber of matches made so far:  2613\n",
      "\tIn this iteration, the covariates dropped are:  OverallJobAccess_D\n",
      "Iteration number:  4\n",
      "\tNumber of matched groups formed in total:  744\n",
      "\tUnmatched treated units:  3513 out of a total of  4973 treated units\n",
      "\tUnmatched control units:  7131 out of a total of  8575 control units\n",
      "\tPredictive error of covariates chosen this iteration:  9870.081898325601\n",
      "\tNumber of matches made in this iteration:  869\n",
      "\tNumber of matches made so far:  2904\n",
      "\tIn this iteration, the covariates dropped are:  Language\n",
      "Iteration number:  5\n",
      "\tNumber of matched groups formed in total:  917\n",
      "\tUnmatched treated units:  3209 out of a total of  4973 treated units\n",
      "\tUnmatched control units:  6782 out of a total of  8575 control units\n",
      "\tPredictive error of covariates chosen this iteration:  12595.880117522476\n",
      "\tNumber of matches made in this iteration:  1522\n",
      "\tNumber of matches made so far:  3557\n",
      "\tIn this iteration, the covariates dropped are:  Access30Transit_D\n",
      "Iteration number:  6\n",
      "\tNumber of matched groups formed in total:  1535\n",
      "\tUnmatched treated units:  593 out of a total of  4973 treated units\n",
      "\tUnmatched control units:  2073 out of a total of  8575 control units\n",
      "\tPredictive error of covariates chosen this iteration:  18157.180093388626\n",
      "\tNumber of matches made in this iteration:  8847\n",
      "\tNumber of matches made so far:  10882\n",
      "\tIn this iteration, the covariates dropped are:  Agency\n",
      "Iteration number:  7\n",
      "\tNumber of matched groups formed in total:  1596\n",
      "\tUnmatched treated units:  470 out of a total of  4973 treated units\n",
      "\tUnmatched control units:  1919 out of a total of  8575 control units\n",
      "\tPredictive error of covariates chosen this iteration:  25414.65776072767\n",
      "\tNumber of matches made in this iteration:  9124\n",
      "\tNumber of matches made so far:  11159\n",
      "\tIn this iteration, the covariates dropped are:  lowwagelaborforce_D\n",
      "Iteration number:  8\n",
      "\tNumber of matched groups formed in total:  1638\n",
      "\tUnmatched treated units:  382 out of a total of  4973 treated units\n",
      "\tUnmatched control units:  1631 out of a total of  8575 control units\n",
      "\tPredictive error of covariates chosen this iteration:  32534.436328231226\n",
      "\tNumber of matches made in this iteration:  9500\n",
      "\tNumber of matches made so far:  11535\n",
      "\tIn this iteration, the covariates dropped are:  spatialmismatch_D\n",
      "Iteration number:  9\n",
      "\tNumber of matched groups formed in total:  1661\n",
      "\tUnmatched treated units:  37 out of a total of  4973 treated units\n",
      "\tUnmatched control units:  720 out of a total of  8575 control units\n",
      "\tPredictive error of covariates chosen this iteration:  40560.646434786555\n",
      "\tNumber of matches made in this iteration:  10756\n",
      "\tNumber of matches made so far:  12791\n",
      "\tIn this iteration, the covariates dropped are:  Age_bin\n",
      "Iteration number:  10\n",
      "\tNumber of matched groups formed in total:  1665\n",
      "\tUnmatched treated units:  5 out of a total of  4973 treated units\n",
      "\tUnmatched control units:  43 out of a total of  8575 control units\n",
      "\tPredictive error of covariates chosen this iteration:  46445.25511083278\n",
      "\tNumber of matches made in this iteration:  11465\n",
      "\tNumber of matches made so far:  13500\n",
      "\tIn this iteration, the covariates dropped are:  stage\n",
      "13500 units matched. No more covariate sets to consider dropping\n"
     ]
    }
   ],
   "source": [
    "model_flame_AMT.fit(holdout_data=False, \n",
    "                    treatment_column_name='SAP', \n",
    "                    outcome_column_name='total_boardings')\n",
    "\n",
    "result_flame_AMT = model_flame_AMT.predict(df_clean_ridership)"
   ]
  },
  {
   "cell_type": "code",
   "execution_count": 18,
   "metadata": {},
   "outputs": [
    {
     "name": "stderr",
     "output_type": "stream",
     "text": [
      "<ipython-input-18-4a901d3a82e5>:9: UserWarning: FixedFormatter should only be used together with FixedLocator\n",
      "  ax[0].set_xticklabels(labels=x, rotation=90)\n"
     ]
    },
    {
     "data": {
      "image/png": "[encoded data removed]",
      "text/plain": [
       "<Figure size 648x648 with 2 Axes>"
      ]
     },
     "metadata": {
      "needs_background": "light"
     },
     "output_type": "display_data"
    }
   ],
   "source": [
    "# Figure Visualzing Qualit of Matches (i.e. Match Group Size vs. Covariates Matched on.)\n",
    "x = [\"NONE\", \"Access30Transit_ts\", '+Language', '+lowwagelaborforce', '+Agency', '+Age_bin', '+OverallJobAccess', '+Access30Transit', '+spatialmismatch', 'stage']\n",
    "y1 = [0, 0, 0, 9130, 7614, 11950, 14126, 16455, 16815, 16854] # some of these will be repeat matches already made earlier iterations.\n",
    "y2 = [2035, 2216, 2412, 2749, 8372, 10630, 11201, 11579, 11619, 13548]\n",
    "\n",
    "\n",
    "f, ax = plt.subplots(ncols = 1, nrows = 2, gridspec_kw = {'width_ratios':[.51]}, figsize=(9,9))\n",
    "# ax[0].set_ylabel('Number of Matches in Iteration', fontsize=14)\n",
    "ax[0].set_xticklabels(labels=x, rotation=90)\n",
    "ax[0].set_xlabel('Covariate(s) Dropped', fontsize=14)\n",
    "ax[0].set_title('Quality of Matches', fontsize=14)\n",
    "ax[0].bar(x,y1, color = '#003f5c')\n",
    "ax[0].axes.xaxis.set_visible(False)\n",
    "\n",
    "ax[1].set_ylabel('Number of Matches Made', fontsize=22)\n",
    "ax[1].set_xlabel('Covariate(s) Dropped', fontsize=30)\n",
    "# ax[1].set_title('Quality of Matches', fontsize=30)\n",
    "ax[1].bar(x,y2, color = '#003f5c')\n",
    "ax[1].tick_params(axis=\"y\", labelsize=15)\n",
    "ax[1].axes.xaxis.set_visible(False)\n"
   ]
  },
  {
   "cell_type": "code",
   "execution_count": 24,
   "metadata": {},
   "outputs": [
    {
     "data": {
      "text/html": [
       "<div>\n",
       "<style scoped>\n",
       "    .dataframe tbody tr th:only-of-type {\n",
       "        vertical-align: middle;\n",
       "    }\n",
       "\n",
       "    .dataframe tbody tr th {\n",
       "        vertical-align: top;\n",
       "    }\n",
       "\n",
       "    .dataframe thead th {\n",
       "        text-align: right;\n",
       "    }\n",
       "</style>\n",
       "<table border=\"1\" class=\"dataframe\">\n",
       "  <thead>\n",
       "    <tr style=\"text-align: right;\">\n",
       "      <th></th>\n",
       "      <th>RaceDesc</th>\n",
       "      <th>OverallJobAccess_D</th>\n",
       "      <th>lowwagelaborforce_D</th>\n",
       "      <th>Access30Transit_D</th>\n",
       "      <th>Access30Transit_ts_D</th>\n",
       "      <th>spatialmismatch_D</th>\n",
       "      <th>Agency</th>\n",
       "      <th>Language</th>\n",
       "      <th>stage</th>\n",
       "      <th>Age_bin</th>\n",
       "    </tr>\n",
       "  </thead>\n",
       "  <tbody>\n",
       "    <tr>\n",
       "      <th>0</th>\n",
       "      <td>0</td>\n",
       "      <td>*</td>\n",
       "      <td>3</td>\n",
       "      <td>*</td>\n",
       "      <td>*</td>\n",
       "      <td>2</td>\n",
       "      <td>*</td>\n",
       "      <td>*</td>\n",
       "      <td>2</td>\n",
       "      <td>3</td>\n",
       "    </tr>\n",
       "    <tr>\n",
       "      <th>1</th>\n",
       "      <td>0</td>\n",
       "      <td>*</td>\n",
       "      <td>*</td>\n",
       "      <td>*</td>\n",
       "      <td>*</td>\n",
       "      <td>*</td>\n",
       "      <td>*</td>\n",
       "      <td>*</td>\n",
       "      <td>3</td>\n",
       "      <td>*</td>\n",
       "    </tr>\n",
       "    <tr>\n",
       "      <th>2</th>\n",
       "      <td>0</td>\n",
       "      <td>*</td>\n",
       "      <td>3</td>\n",
       "      <td>*</td>\n",
       "      <td>*</td>\n",
       "      <td>2</td>\n",
       "      <td>*</td>\n",
       "      <td>*</td>\n",
       "      <td>2</td>\n",
       "      <td>4</td>\n",
       "    </tr>\n",
       "    <tr>\n",
       "      <th>3</th>\n",
       "      <td>3</td>\n",
       "      <td>*</td>\n",
       "      <td>3</td>\n",
       "      <td>*</td>\n",
       "      <td>*</td>\n",
       "      <td>2</td>\n",
       "      <td>*</td>\n",
       "      <td>*</td>\n",
       "      <td>2</td>\n",
       "      <td>2</td>\n",
       "    </tr>\n",
       "    <tr>\n",
       "      <th>4</th>\n",
       "      <td>2</td>\n",
       "      <td>*</td>\n",
       "      <td>3</td>\n",
       "      <td>*</td>\n",
       "      <td>*</td>\n",
       "      <td>2</td>\n",
       "      <td>*</td>\n",
       "      <td>*</td>\n",
       "      <td>1</td>\n",
       "      <td>2</td>\n",
       "    </tr>\n",
       "    <tr>\n",
       "      <th>...</th>\n",
       "      <td>...</td>\n",
       "      <td>...</td>\n",
       "      <td>...</td>\n",
       "      <td>...</td>\n",
       "      <td>...</td>\n",
       "      <td>...</td>\n",
       "      <td>...</td>\n",
       "      <td>...</td>\n",
       "      <td>...</td>\n",
       "      <td>...</td>\n",
       "    </tr>\n",
       "    <tr>\n",
       "      <th>13543</th>\n",
       "      <td>1</td>\n",
       "      <td>*</td>\n",
       "      <td>2</td>\n",
       "      <td>*</td>\n",
       "      <td>*</td>\n",
       "      <td>3</td>\n",
       "      <td>*</td>\n",
       "      <td>*</td>\n",
       "      <td>1</td>\n",
       "      <td>3</td>\n",
       "    </tr>\n",
       "    <tr>\n",
       "      <th>13544</th>\n",
       "      <td>5</td>\n",
       "      <td>*</td>\n",
       "      <td>*</td>\n",
       "      <td>*</td>\n",
       "      <td>*</td>\n",
       "      <td>*</td>\n",
       "      <td>*</td>\n",
       "      <td>*</td>\n",
       "      <td>1</td>\n",
       "      <td>3</td>\n",
       "    </tr>\n",
       "    <tr>\n",
       "      <th>13545</th>\n",
       "      <td>0</td>\n",
       "      <td>*</td>\n",
       "      <td>2</td>\n",
       "      <td>*</td>\n",
       "      <td>*</td>\n",
       "      <td>3</td>\n",
       "      <td>*</td>\n",
       "      <td>*</td>\n",
       "      <td>1</td>\n",
       "      <td>0</td>\n",
       "    </tr>\n",
       "    <tr>\n",
       "      <th>13546</th>\n",
       "      <td>0</td>\n",
       "      <td>*</td>\n",
       "      <td>2</td>\n",
       "      <td>*</td>\n",
       "      <td>*</td>\n",
       "      <td>3</td>\n",
       "      <td>*</td>\n",
       "      <td>*</td>\n",
       "      <td>1</td>\n",
       "      <td>0</td>\n",
       "    </tr>\n",
       "    <tr>\n",
       "      <th>13547</th>\n",
       "      <td>4</td>\n",
       "      <td>*</td>\n",
       "      <td>*</td>\n",
       "      <td>*</td>\n",
       "      <td>*</td>\n",
       "      <td>*</td>\n",
       "      <td>*</td>\n",
       "      <td>*</td>\n",
       "      <td>1</td>\n",
       "      <td>*</td>\n",
       "    </tr>\n",
       "  </tbody>\n",
       "</table>\n",
       "<p>13500 rows × 10 columns</p>\n",
       "</div>"
      ],
      "text/plain": [
       "      RaceDesc OverallJobAccess_D lowwagelaborforce_D Access30Transit_D  \\\n",
       "0            0                  *                   3                 *   \n",
       "1            0                  *                   *                 *   \n",
       "2            0                  *                   3                 *   \n",
       "3            3                  *                   3                 *   \n",
       "4            2                  *                   3                 *   \n",
       "...        ...                ...                 ...               ...   \n",
       "13543        1                  *                   2                 *   \n",
       "13544        5                  *                   *                 *   \n",
       "13545        0                  *                   2                 *   \n",
       "13546        0                  *                   2                 *   \n",
       "13547        4                  *                   *                 *   \n",
       "\n",
       "      Access30Transit_ts_D spatialmismatch_D Agency Language stage Age_bin  \n",
       "0                        *                 2      *        *     2       3  \n",
       "1                        *                 *      *        *     3       *  \n",
       "2                        *                 2      *        *     2       4  \n",
       "3                        *                 2      *        *     2       2  \n",
       "4                        *                 2      *        *     1       2  \n",
       "...                    ...               ...    ...      ...   ...     ...  \n",
       "13543                    *                 3      *        *     1       3  \n",
       "13544                    *                 *      *        *     1       3  \n",
       "13545                    *                 3      *        *     1       0  \n",
       "13546                    *                 3      *        *     1       0  \n",
       "13547                    *                 *      *        *     1       *  \n",
       "\n",
       "[13500 rows x 10 columns]"
      ]
     },
     "execution_count": 24,
     "metadata": {},
     "output_type": "execute_result"
    }
   ],
   "source": [
    "matched = model_flame_AMT.df_units_and_covars_matched\n",
    "matched # covariates dropped according to predicting total_boardings"
   ]
  },
  {
   "cell_type": "code",
   "execution_count": 25,
   "metadata": {},
   "outputs": [
    {
     "data": {
      "text/plain": [
       "42.63089840325858"
      ]
     },
     "execution_count": 25,
     "metadata": {},
     "output_type": "execute_result"
    }
   ],
   "source": [
    "# ATE Estimate\n",
    "ate_ridership = dame_flame.utils.post_processing.ATE(model_flame_AMT)\n",
    "ate_ridership"
   ]
  },
  {
   "cell_type": "markdown",
   "metadata": {},
   "source": [
    "## Create Scatterplots of Matched Groups."
   ]
  },
  {
   "cell_type": "code",
   "execution_count": 26,
   "metadata": {},
   "outputs": [],
   "source": [
    "def create_df_scatter(feature, category):\n",
    "    '''\n",
    "    Creates a scatter plot of the size of matched group against CATE estimate.\n",
    "    \n",
    "    feature (str): variable of interest.\n",
    "    category (int): level of variable to highlight.\n",
    "    '''\n",
    "    group_size_overall = []\n",
    "    cate_of_group = []\n",
    "    in_desired_variable = []\n",
    "    size_desired_group = []\n",
    "    cate_desired_group = []\n",
    "    \n",
    "\n",
    "    for group in model_flame_AMT.units_per_group:\n",
    "\n",
    "        # find len of just treated units\n",
    "        df_mmg = df_clean_ridership.loc[group] # chooses rows with row id in group.\n",
    "        treated = df_mmg.loc[df_mmg[\"SAP\"] == 1] # chooses the rows with treatment = 1\n",
    "        desired_variable = df_mmg.iloc[0][feature] == category # true/false vector. an indicator.\n",
    "\n",
    "        # group_size_treated.append(len(treated))\n",
    "        group_size_overall.append(len(group))\n",
    "        in_desired_variable.append(desired_variable)\n",
    "        \n",
    "        \n",
    "\n",
    "        cate_of_group.append(dame_flame.utils.post_processing.CATE(model_flame_AMT, group[0]))\n",
    "        \n",
    "        if desired_variable == True:\n",
    "            cate_desired_group.append(dame_flame.utils.post_processing.CATE(model_flame_AMT, group[0]))\n",
    "            size_desired_group.append(len(group))\n",
    "        \n",
    "    \n",
    "    return(group_size_overall, cate_of_group, in_desired_variable, size_desired_group, cate_desired_group)"
   ]
  },
  {
   "cell_type": "code",
   "execution_count": 27,
   "metadata": {},
   "outputs": [],
   "source": [
    "def create_cate_lst(sizes, cates):\n",
    "    '''\n",
    "    helper function to create credible interval for ATE. Creates an extended list\n",
    "    where each element is the CATE for a unit.'''\n",
    "    \n",
    "    out = []\n",
    "    for i in range(len(cates)):\n",
    "        for j in range(sizes[i]):\n",
    "            out.append(cates[i])\n",
    "    return out   "
   ]
  },
  {
   "cell_type": "code",
   "execution_count": 29,
   "metadata": {},
   "outputs": [],
   "source": [
    "# Calculate the quantiles for ATE.\n",
    "(size, cate_all, in_asian, size_asian, cate_asian) = create_df_scatter(\"RaceDesc\", 2)\n",
    "\n",
    "cate_lst = create_cate_lst(size, cate_all)"
   ]
  },
  {
   "cell_type": "code",
   "execution_count": 30,
   "metadata": {},
   "outputs": [
    {
     "data": {
      "text/plain": [
       "Text(0, 0.5, 'CATE')"
      ]
     },
     "execution_count": 30,
     "metadata": {},
     "output_type": "execute_result"
    },
    {
     "data": {
      "image/png": "[encoded data removed]",
      "text/plain": [
       "<Figure size 432x288 with 1 Axes>"
      ]
     },
     "metadata": {
      "needs_background": "light"
     },
     "output_type": "display_data"
    }
   ],
   "source": [
    "# Scatter Plot for CATE\n",
    "cors = {True:\"green\", False:\"green\"}\n",
    " #hisp = pd.Series(in_hisp)\n",
    "\n",
    "plt.scatter(size, cate_all, c = \"#003f5c\", alpha=0.4)\n",
    "plt.axhline(y=0.0, color='r', linestyle='-')\n",
    "plt.axhline(y=ate_ridership, color='blue', linestyle='--')\n",
    "plt.xlim(0,200)\n",
    "plt.xlabel('Size of group', fontsize=12)\n",
    "plt.ylabel('Estimated Treatment Effect of Group', fontsize=12)\n",
    "# plt.title(\"Visualizing Enrollment CATE of matched groups by size\", fontsize=14)\n",
    "\n",
    "plt.xlabel('Size of group', fontsize=17)\n",
    "plt.ylabel('CATE', fontsize=17)\n",
    "\n",
    "# plt.savefig('ate_scatter.pdf', bbox_inches=\"tight\")"
   ]
  },
  {
   "cell_type": "markdown",
   "metadata": {},
   "source": [
    "### Conditional Average Treatment Effects By Race, Access to Transit"
   ]
  },
  {
   "cell_type": "code",
   "execution_count": 31,
   "metadata": {},
   "outputs": [],
   "source": [
    "# race = {\"White\": 0, \"Black or African American\": 1, \"Asian\": 2, \"Hispanic or Latino\": 3, \"Not Specified\": 4, 'Other': 5, 'American Indian or Alaska Native': 6, \"Multi-Racial\": 7, \"Native Hawaiian or Other Pacific Islander\": 8}\n",
    "(size, cate_all, in_asian, size_asian, cate_asian) = create_df_scatter(\"RaceDesc\", 2)\n",
    "\n"
   ]
  },
  {
   "cell_type": "code",
   "execution_count": 32,
   "metadata": {},
   "outputs": [
    {
     "data": {
      "text/plain": [
       "112.13338772112475"
      ]
     },
     "execution_count": 32,
     "metadata": {},
     "output_type": "execute_result"
    }
   ],
   "source": [
    "## Conf. Interval for Asian CATE estimates\n",
    "cate_lst = create_cate_lst(size_asian, cate_asian)\n",
    "mean_cate_asian = sum(cate_lst)/len(cate_lst)\n",
    "mean_cate_asian"
   ]
  },
  {
   "cell_type": "code",
   "execution_count": 34,
   "metadata": {
    "scrolled": false
   },
   "outputs": [
    {
     "data": {
      "image/png": "[encoded data removed]",
      "text/plain": [
       "<Figure size 432x288 with 1 Axes>"
      ]
     },
     "metadata": {
      "needs_background": "light"
     },
     "output_type": "display_data"
    }
   ],
   "source": [
    "# Scatter Plots displaying the CATEs for matched groups with Asian individuals\n",
    "\n",
    "cors = {True:'#bc5090', False:'#ffa600'}\n",
    "asian = pd.Series(in_asian)\n",
    "\n",
    "plt.scatter(size, cate_all, c = \"#003f5c\", alpha=1)\n",
    "plt.scatter(size_asian, cate_asian, c = \"#ffa600\", alpha=.75)\n",
    "\n",
    "plt.axhline(y=0.0, color='grey', linestyle='-')\n",
    "plt.axhline(y=mean_cate_asian, color='red', linestyle='--')\n",
    "\n",
    "plt.xlim(0,200)\n",
    "plt.xlabel('Size of group', fontsize=17)\n",
    "plt.ylabel('CATE', fontsize=17)\n",
    "\n",
    "# plt.savefig('asian_ridership.pdf', bbox_inches=\"tight\")"
   ]
  },
  {
   "cell_type": "code",
   "execution_count": 35,
   "metadata": {},
   "outputs": [],
   "source": [
    "# race = {\"White\": 0, \"Black or African American\": 1, \"Asian\": 2, \"Hispanic or Latino\": 3, \"Not Specified\": 4, 'Other': 5, 'American Indian or Alaska Native': 6, \"Multi-Racial\": 7, \"Native Hawaiian or Other Pacific Islander\": 8}\n",
    "# Hispanic\n",
    "(size, cate_all, in_hisp, size_hispanic, cate_hispanic) = create_df_scatter(\"RaceDesc\", 3)\n"
   ]
  },
  {
   "cell_type": "code",
   "execution_count": 36,
   "metadata": {},
   "outputs": [
    {
     "data": {
      "text/plain": [
       "-50.81033983494799"
      ]
     },
     "execution_count": 36,
     "metadata": {},
     "output_type": "execute_result"
    }
   ],
   "source": [
    "## mean cate hispanic race\n",
    "cate_hispanic_lst = create_cate_lst(size_hispanic, cate_hispanic)\n",
    "mean_cate_h = sum(cate_hispanic_lst)/len(cate_hispanic_lst)\n",
    "mean_cate_h"
   ]
  },
  {
   "cell_type": "code",
   "execution_count": 38,
   "metadata": {},
   "outputs": [
    {
     "data": {
      "image/png": "[encoded data removed]",
      "text/plain": [
       "<Figure size 432x288 with 1 Axes>"
      ]
     },
     "metadata": {
      "needs_background": "light"
     },
     "output_type": "display_data"
    }
   ],
   "source": [
    "# Scatter plot Hispanic Individuals.\n",
    "\n",
    "plt.scatter(size, cate_all, c = \"#003f5c\", alpha=1)\n",
    "plt.scatter(size_hispanic, cate_hispanic, c = \"pink\", alpha=.75)\n",
    "\n",
    "plt.axhline(y=0.0, color='gray', linestyle='-')\n",
    "plt.axhline(y=mean_cate_h, color='red', linestyle='--')\n",
    "plt.xlim(0,200)\n",
    "plt.xlabel('Size of group', fontsize=17)\n",
    "plt.ylabel('CATE', fontsize=17)\n",
    "\n",
    "# plt.savefig('hispanic_ridership.pdf', bbox_inches=\"tight\")"
   ]
  },
  {
   "cell_type": "code",
   "execution_count": 39,
   "metadata": {},
   "outputs": [],
   "source": [
    "# race = {\"White\": 0, \"Black or African American\": 1, \"Asian\": 2, \"Hispanic or Latino\": 3, \"Not Specified\": 4, 'Other': 5, 'American Indian or Alaska Native': 6, \"Multi-Racial\": 7, \"Native Hawaiian or Other Pacific Islander\": 8}\n",
    "# White\n",
    "(size, cate_all, in_hisp, size_white, cate_white) = create_df_scatter(\"RaceDesc\", 0)\n"
   ]
  },
  {
   "cell_type": "code",
   "execution_count": 40,
   "metadata": {},
   "outputs": [
    {
     "data": {
      "text/plain": [
       "33.52429386890515"
      ]
     },
     "execution_count": 40,
     "metadata": {},
     "output_type": "execute_result"
    }
   ],
   "source": [
    "## mean cate white race\n",
    "cate_w_lst = create_cate_lst(size_white, cate_white)\n",
    "mean_cate_w = sum(cate_w_lst)/len(cate_w_lst)\n",
    "mean_cate_w"
   ]
  },
  {
   "cell_type": "code",
   "execution_count": 41,
   "metadata": {},
   "outputs": [
    {
     "data": {
      "image/png": "[encoded data removed]",
      "text/plain": [
       "<Figure size 432x288 with 1 Axes>"
      ]
     },
     "metadata": {
      "needs_background": "light"
     },
     "output_type": "display_data"
    }
   ],
   "source": [
    "# Scatter plot Hispanic Individuals.\n",
    "\n",
    "plt.scatter(size, cate_all, c = \"#003f5c\", alpha=1)\n",
    "plt.scatter(size_hispanic, cate_hispanic, c = \"#bc5090\", alpha=.75)\n",
    "\n",
    "plt.axhline(y=0.0, color='gray', linestyle='-')\n",
    "plt.axhline(y=mean_cate_w, color='red', linestyle='--')\n",
    "plt.xlim(0,200)\n",
    "plt.xlabel('Size of group', fontsize=17)\n",
    "plt.ylabel('CATE', fontsize=17)\n",
    "\n",
    "# plt.savefig('white_ridership.pdf', bbox_inches=\"tight\")"
   ]
  },
  {
   "cell_type": "markdown",
   "metadata": {},
   "source": [
    "### Overall Job Access"
   ]
  },
  {
   "cell_type": "code",
   "execution_count": 51,
   "metadata": {},
   "outputs": [],
   "source": [
    "(size, cate_all, in_access_one, size_access_one, cate_access_one) = create_df_scatter(\"OverallJobAccess_D\", 1)\n",
    "\n"
   ]
  },
  {
   "cell_type": "code",
   "execution_count": 52,
   "metadata": {},
   "outputs": [
    {
     "data": {
      "text/plain": [
       "7.674025910854294"
      ]
     },
     "execution_count": 52,
     "metadata": {},
     "output_type": "execute_result"
    }
   ],
   "source": [
    "## mean cate lowest access to transit\n",
    "cate_transit1_lst = create_cate_lst(size_access_one, cate_access_one)\n",
    "mean_transit1_cate = sum(cate_transit1_lst)/len(cate_transit1_lst)\n",
    "mean_transit1_cate"
   ]
  },
  {
   "cell_type": "code",
   "execution_count": 71,
   "metadata": {},
   "outputs": [],
   "source": [
    "matplotlib.rcParams.update({'font.size': 14})"
   ]
  },
  {
   "cell_type": "code",
   "execution_count": 73,
   "metadata": {},
   "outputs": [
    {
     "data": {
      "image/png": "[encoded data removed]",
      "text/plain": [
       "<Figure size 432x288 with 1 Axes>"
      ]
     },
     "metadata": {
      "needs_background": "light"
     },
     "output_type": "display_data"
    }
   ],
   "source": [
    "# Scatter plot (\"Access30Transit_D\", 1) people with Bottom 25% access to transit.\n",
    "\n",
    "# plot\n",
    "plt.scatter(size, cate_all, c = \"#003f5c\", alpha=1)\n",
    "plt.scatter(size_access_one, cate_access_one, c = \"pink\", alpha=.75)\n",
    "\n",
    "plt.axhline(y=0.0, color='gray', linestyle='-')\n",
    "plt.axhline(y=mean_transit1_cate, color='red', linestyle='--')\n",
    "plt.xlim(0,200)\n",
    "\n",
    "plt.xlabel('Size of group', fontsize=17)\n",
    "plt.ylabel('CATE', fontsize=17)\n",
    "\n",
    "plt.savefig('job_bottom_ridership.pdf', bbox_inches=\"tight\")"
   ]
  },
  {
   "cell_type": "code",
   "execution_count": 57,
   "metadata": {},
   "outputs": [],
   "source": [
    "(size, cate_all, in_access_four, size_access_four, cate_access_four) = create_df_scatter(\"OverallJobAccess_D\", 3)\n",
    "\n"
   ]
  },
  {
   "cell_type": "code",
   "execution_count": 58,
   "metadata": {},
   "outputs": [
    {
     "data": {
      "text/plain": [
       "54.541863477873726"
      ]
     },
     "execution_count": 58,
     "metadata": {},
     "output_type": "execute_result"
    }
   ],
   "source": [
    "## mean cate highest access to transit\n",
    "cate_transit4_lst = create_cate_lst(size_access_four, cate_access_four)\n",
    "mean_transit4_cate = sum(cate_transit4_lst)/len(cate_transit4_lst)\n",
    "mean_transit4_cate"
   ]
  },
  {
   "cell_type": "code",
   "execution_count": 74,
   "metadata": {},
   "outputs": [
    {
     "data": {
      "image/png": "[encoded data removed]",
      "text/plain": [
       "<Figure size 432x288 with 1 Axes>"
      ]
     },
     "metadata": {
      "needs_background": "light"
     },
     "output_type": "display_data"
    }
   ],
   "source": [
    "# Scatter plot (\"Access30Transit_D\", 1) people with Top 25% access to transit.\n",
    "\n",
    "# plot\n",
    "plt.scatter(size, cate_all, c = \"#003f5c\", alpha=1)\n",
    "plt.scatter(size_access_four, cate_access_four, c = \"#ffa600\", alpha=.75)\n",
    "\n",
    "plt.axhline(y=0.0, color='gray', linestyle='-')\n",
    "plt.axhline(y=mean_transit1_cate, color='red', linestyle='--')\n",
    "plt.xlim(0,200)\n",
    "\n",
    "plt.xlabel('Size of group', fontsize=17)\n",
    "plt.ylabel('CATE', fontsize=17)\n",
    "\n",
    "plt.savefig('job_top_ridership.pdf', bbox_inches=\"tight\")"
   ]
  },
  {
   "cell_type": "code",
   "execution_count": null,
   "metadata": {},
   "outputs": [],
   "source": []
  }
 ],
 "metadata": {
  "kernelspec": {
   "display_name": "Python 3",
   "language": "python",
   "name": "python3"
  },
  "language_info": {
   "codemirror_mode": {
    "name": "ipython",
    "version": 3
   },
   "file_extension": ".py",
   "mimetype": "text/x-python",
   "name": "python",
   "nbconvert_exporter": "python",
   "pygments_lexer": "ipython3",
   "version": "3.8.5"
  }
 },
 "nbformat": 4,
 "nbformat_minor": 5
}
